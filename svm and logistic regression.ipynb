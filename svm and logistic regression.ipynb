{
 "cells":[
  {
   "cell_type":"markdown",
   "source":[
    "# Анализ датасета adults.csv"
   ],
   "attachments":{
    
   },
   "metadata":{
    "datalore":{
     "node_id":"iZXIINquiTM835cEFPxfFi",
     "type":"MD",
     "hide_input_from_viewers":false,
     "hide_output_from_viewers":false
    }
   }
  },
  {
   "cell_type":"code",
   "source":[
    "import numpy as np\n",
    "import pandas as pd\n",
    "import seaborn as sns \n",
    "import matplotlib.pyplot as plt\n",
    "%matplotlib inline"
   ],
   "execution_count":3,
   "outputs":[
    
   ],
   "metadata":{
    "datalore":{
     "node_id":"ubh95dO4WdHq3TLY3J5cWX",
     "type":"CODE",
     "hide_input_from_viewers":false,
     "hide_output_from_viewers":false
    }
   }
  },
  {
   "cell_type":"markdown",
   "source":[
    "## 1. Загрузка датасета и первичный анализ"
   ],
   "attachments":{
    
   },
   "metadata":{
    "datalore":{
     "node_id":"3B4wI4XyHg9ylVVJYUk3ty",
     "type":"MD",
     "hide_input_from_viewers":false,
     "hide_output_from_viewers":false
    }
   }
  },
  {
   "cell_type":"code",
   "source":[
    "df = pd.read_csv('adult.csv', delimiter = ',')\n",
    "df.head()"
   ],
   "execution_count":4,
   "outputs":[
    {
     "data":{
      "text\/html":[
       "<div>\n",
       "<style scoped>\n",
       "    .dataframe tbody tr th:only-of-type {\n",
       "        vertical-align: middle;\n",
       "    }\n",
       "\n",
       "    .dataframe tbody tr th {\n",
       "        vertical-align: top;\n",
       "    }\n",
       "\n",
       "    .dataframe thead th {\n",
       "        text-align: right;\n",
       "    }\n",
       "<\/style>\n",
       "<table border=\"1\" class=\"dataframe\">\n",
       "  <thead>\n",
       "    <tr style=\"text-align: right;\">\n",
       "      <th><\/th>\n",
       "      <th>age<\/th>\n",
       "      <th>workclass<\/th>\n",
       "      <th>fnlwgt<\/th>\n",
       "      <th>education<\/th>\n",
       "      <th>educational-num<\/th>\n",
       "      <th>marital-status<\/th>\n",
       "      <th>occupation<\/th>\n",
       "      <th>relationship<\/th>\n",
       "      <th>race<\/th>\n",
       "      <th>gender<\/th>\n",
       "      <th>capital-gain<\/th>\n",
       "      <th>capital-loss<\/th>\n",
       "      <th>hours-per-week<\/th>\n",
       "      <th>native-country<\/th>\n",
       "      <th>income<\/th>\n",
       "    <\/tr>\n",
       "  <\/thead>\n",
       "  <tbody>\n",
       "    <tr>\n",
       "      <th>0<\/th>\n",
       "      <td>25<\/td>\n",
       "      <td>Private<\/td>\n",
       "      <td>226802<\/td>\n",
       "      <td>11th<\/td>\n",
       "      <td>7<\/td>\n",
       "      <td>Never-married<\/td>\n",
       "      <td>Machine-op-inspct<\/td>\n",
       "      <td>Own-child<\/td>\n",
       "      <td>Black<\/td>\n",
       "      <td>Male<\/td>\n",
       "      <td>0<\/td>\n",
       "      <td>0<\/td>\n",
       "      <td>40<\/td>\n",
       "      <td>United-States<\/td>\n",
       "      <td>&lt;=50K<\/td>\n",
       "    <\/tr>\n",
       "    <tr>\n",
       "      <th>1<\/th>\n",
       "      <td>38<\/td>\n",
       "      <td>Private<\/td>\n",
       "      <td>89814<\/td>\n",
       "      <td>HS-grad<\/td>\n",
       "      <td>9<\/td>\n",
       "      <td>Married-civ-spouse<\/td>\n",
       "      <td>Farming-fishing<\/td>\n",
       "      <td>Husband<\/td>\n",
       "      <td>White<\/td>\n",
       "      <td>Male<\/td>\n",
       "      <td>0<\/td>\n",
       "      <td>0<\/td>\n",
       "      <td>50<\/td>\n",
       "      <td>United-States<\/td>\n",
       "      <td>&lt;=50K<\/td>\n",
       "    <\/tr>\n",
       "    <tr>\n",
       "      <th>2<\/th>\n",
       "      <td>28<\/td>\n",
       "      <td>Local-gov<\/td>\n",
       "      <td>336951<\/td>\n",
       "      <td>Assoc-acdm<\/td>\n",
       "      <td>12<\/td>\n",
       "      <td>Married-civ-spouse<\/td>\n",
       "      <td>Protective-serv<\/td>\n",
       "      <td>Husband<\/td>\n",
       "      <td>White<\/td>\n",
       "      <td>Male<\/td>\n",
       "      <td>0<\/td>\n",
       "      <td>0<\/td>\n",
       "      <td>40<\/td>\n",
       "      <td>United-States<\/td>\n",
       "      <td>&gt;50K<\/td>\n",
       "    <\/tr>\n",
       "    <tr>\n",
       "      <th>3<\/th>\n",
       "      <td>44<\/td>\n",
       "      <td>Private<\/td>\n",
       "      <td>160323<\/td>\n",
       "      <td>Some-college<\/td>\n",
       "      <td>10<\/td>\n",
       "      <td>Married-civ-spouse<\/td>\n",
       "      <td>Machine-op-inspct<\/td>\n",
       "      <td>Husband<\/td>\n",
       "      <td>Black<\/td>\n",
       "      <td>Male<\/td>\n",
       "      <td>7688<\/td>\n",
       "      <td>0<\/td>\n",
       "      <td>40<\/td>\n",
       "      <td>United-States<\/td>\n",
       "      <td>&gt;50K<\/td>\n",
       "    <\/tr>\n",
       "    <tr>\n",
       "      <th>4<\/th>\n",
       "      <td>18<\/td>\n",
       "      <td>?<\/td>\n",
       "      <td>103497<\/td>\n",
       "      <td>Some-college<\/td>\n",
       "      <td>10<\/td>\n",
       "      <td>Never-married<\/td>\n",
       "      <td>?<\/td>\n",
       "      <td>Own-child<\/td>\n",
       "      <td>White<\/td>\n",
       "      <td>Female<\/td>\n",
       "      <td>0<\/td>\n",
       "      <td>0<\/td>\n",
       "      <td>30<\/td>\n",
       "      <td>United-States<\/td>\n",
       "      <td>&lt;=50K<\/td>\n",
       "    <\/tr>\n",
       "  <\/tbody>\n",
       "<\/table>\n",
       "<\/div>"
      ]
     },
     "metadata":{
      
     },
     "output_type":"display_data"
    }
   ],
   "metadata":{
    "datalore":{
     "node_id":"YJ4djvFLqnTi8jv5TT3H8a",
     "type":"CODE",
     "hide_input_from_viewers":false,
     "hide_output_from_viewers":false
    }
   }
  },
  {
   "cell_type":"markdown",
   "source":[
    "**Видим, что пустые ячейки отображаются как значение '?'. Для работы нам необходимо заменить их на None, поэтому заново считаем наш csv-файл с опциональным параметром na_values**"
   ],
   "attachments":{
    
   },
   "metadata":{
    "datalore":{
     "node_id":"Ozb8olETAUEKYTrGwhuYja",
     "type":"MD",
     "hide_input_from_viewers":false,
     "hide_output_from_viewers":false
    }
   }
  },
  {
   "cell_type":"code",
   "source":[
    "df = pd.read_csv('adult.csv', na_values='?')\n",
    "# df = pd.read_csv('https:\/\/datahub.io\/machine-learning\/adult\/r\/adult.csv', na_values='?')\n",
    "df.head()"
   ],
   "execution_count":5,
   "outputs":[
    {
     "data":{
      "text\/html":[
       "<div>\n",
       "<style scoped>\n",
       "    .dataframe tbody tr th:only-of-type {\n",
       "        vertical-align: middle;\n",
       "    }\n",
       "\n",
       "    .dataframe tbody tr th {\n",
       "        vertical-align: top;\n",
       "    }\n",
       "\n",
       "    .dataframe thead th {\n",
       "        text-align: right;\n",
       "    }\n",
       "<\/style>\n",
       "<table border=\"1\" class=\"dataframe\">\n",
       "  <thead>\n",
       "    <tr style=\"text-align: right;\">\n",
       "      <th><\/th>\n",
       "      <th>age<\/th>\n",
       "      <th>workclass<\/th>\n",
       "      <th>fnlwgt<\/th>\n",
       "      <th>education<\/th>\n",
       "      <th>educational-num<\/th>\n",
       "      <th>marital-status<\/th>\n",
       "      <th>occupation<\/th>\n",
       "      <th>relationship<\/th>\n",
       "      <th>race<\/th>\n",
       "      <th>gender<\/th>\n",
       "      <th>capital-gain<\/th>\n",
       "      <th>capital-loss<\/th>\n",
       "      <th>hours-per-week<\/th>\n",
       "      <th>native-country<\/th>\n",
       "      <th>income<\/th>\n",
       "    <\/tr>\n",
       "  <\/thead>\n",
       "  <tbody>\n",
       "    <tr>\n",
       "      <th>0<\/th>\n",
       "      <td>25<\/td>\n",
       "      <td>Private<\/td>\n",
       "      <td>226802<\/td>\n",
       "      <td>11th<\/td>\n",
       "      <td>7<\/td>\n",
       "      <td>Never-married<\/td>\n",
       "      <td>Machine-op-inspct<\/td>\n",
       "      <td>Own-child<\/td>\n",
       "      <td>Black<\/td>\n",
       "      <td>Male<\/td>\n",
       "      <td>0<\/td>\n",
       "      <td>0<\/td>\n",
       "      <td>40<\/td>\n",
       "      <td>United-States<\/td>\n",
       "      <td>&lt;=50K<\/td>\n",
       "    <\/tr>\n",
       "    <tr>\n",
       "      <th>1<\/th>\n",
       "      <td>38<\/td>\n",
       "      <td>Private<\/td>\n",
       "      <td>89814<\/td>\n",
       "      <td>HS-grad<\/td>\n",
       "      <td>9<\/td>\n",
       "      <td>Married-civ-spouse<\/td>\n",
       "      <td>Farming-fishing<\/td>\n",
       "      <td>Husband<\/td>\n",
       "      <td>White<\/td>\n",
       "      <td>Male<\/td>\n",
       "      <td>0<\/td>\n",
       "      <td>0<\/td>\n",
       "      <td>50<\/td>\n",
       "      <td>United-States<\/td>\n",
       "      <td>&lt;=50K<\/td>\n",
       "    <\/tr>\n",
       "    <tr>\n",
       "      <th>2<\/th>\n",
       "      <td>28<\/td>\n",
       "      <td>Local-gov<\/td>\n",
       "      <td>336951<\/td>\n",
       "      <td>Assoc-acdm<\/td>\n",
       "      <td>12<\/td>\n",
       "      <td>Married-civ-spouse<\/td>\n",
       "      <td>Protective-serv<\/td>\n",
       "      <td>Husband<\/td>\n",
       "      <td>White<\/td>\n",
       "      <td>Male<\/td>\n",
       "      <td>0<\/td>\n",
       "      <td>0<\/td>\n",
       "      <td>40<\/td>\n",
       "      <td>United-States<\/td>\n",
       "      <td>&gt;50K<\/td>\n",
       "    <\/tr>\n",
       "    <tr>\n",
       "      <th>3<\/th>\n",
       "      <td>44<\/td>\n",
       "      <td>Private<\/td>\n",
       "      <td>160323<\/td>\n",
       "      <td>Some-college<\/td>\n",
       "      <td>10<\/td>\n",
       "      <td>Married-civ-spouse<\/td>\n",
       "      <td>Machine-op-inspct<\/td>\n",
       "      <td>Husband<\/td>\n",
       "      <td>Black<\/td>\n",
       "      <td>Male<\/td>\n",
       "      <td>7688<\/td>\n",
       "      <td>0<\/td>\n",
       "      <td>40<\/td>\n",
       "      <td>United-States<\/td>\n",
       "      <td>&gt;50K<\/td>\n",
       "    <\/tr>\n",
       "    <tr>\n",
       "      <th>4<\/th>\n",
       "      <td>18<\/td>\n",
       "      <td>NaN<\/td>\n",
       "      <td>103497<\/td>\n",
       "      <td>Some-college<\/td>\n",
       "      <td>10<\/td>\n",
       "      <td>Never-married<\/td>\n",
       "      <td>NaN<\/td>\n",
       "      <td>Own-child<\/td>\n",
       "      <td>White<\/td>\n",
       "      <td>Female<\/td>\n",
       "      <td>0<\/td>\n",
       "      <td>0<\/td>\n",
       "      <td>30<\/td>\n",
       "      <td>United-States<\/td>\n",
       "      <td>&lt;=50K<\/td>\n",
       "    <\/tr>\n",
       "  <\/tbody>\n",
       "<\/table>\n",
       "<\/div>"
      ]
     },
     "metadata":{
      
     },
     "output_type":"display_data"
    }
   ],
   "metadata":{
    "datalore":{
     "node_id":"gi9Vae7nlpyMjxPqjtK4fG",
     "type":"CODE",
     "hide_input_from_viewers":false,
     "hide_output_from_viewers":false
    }
   }
  },
  {
   "cell_type":"code",
   "source":[
    "df.info()"
   ],
   "execution_count":6,
   "outputs":[
    {
     "name":"stdout",
     "text":[
      "<class 'pandas.core.frame.DataFrame'>\n",
      "RangeIndex: 48842 entries, 0 to 48841\n",
      "Data columns (total 15 columns):\n",
      " #   Column           Non-Null Count  Dtype \n",
      "---  ------           --------------  ----- \n",
      " 0   age              48842 non-null  int64 \n",
      " 1   workclass        46043 non-null  object\n",
      " 2   fnlwgt           48842 non-null  int64 \n",
      " 3   education        48842 non-null  object\n",
      " 4   educational-num  48842 non-null  int64 \n",
      " 5   marital-status   48842 non-null  object\n",
      " 6   occupation       46033 non-null  object\n",
      " 7   relationship     48842 non-null  object\n",
      " 8   race             48842 non-null  object\n",
      " 9   gender           48842 non-null  object\n",
      " 10  capital-gain     48842 non-null  int64 \n",
      " 11  capital-loss     48842 non-null  int64 \n",
      " 12  hours-per-week   48842 non-null  int64 \n",
      " 13  native-country   47985 non-null  object\n",
      " 14  income           48842 non-null  object\n",
      "dtypes: int64(6), object(9)\n",
      "memory usage: 5.6+ MB\n"
     ],
     "output_type":"stream"
    }
   ],
   "metadata":{
    "datalore":{
     "node_id":"gWvcBi0VQ3sYnEfT3YcIcJ",
     "type":"CODE",
     "hide_input_from_viewers":false,
     "hide_output_from_viewers":false
    }
   }
  },
  {
   "cell_type":"code",
   "source":[
    "df.describe()"
   ],
   "execution_count":7,
   "outputs":[
    {
     "data":{
      "text\/html":[
       "<div>\n",
       "<style scoped>\n",
       "    .dataframe tbody tr th:only-of-type {\n",
       "        vertical-align: middle;\n",
       "    }\n",
       "\n",
       "    .dataframe tbody tr th {\n",
       "        vertical-align: top;\n",
       "    }\n",
       "\n",
       "    .dataframe thead th {\n",
       "        text-align: right;\n",
       "    }\n",
       "<\/style>\n",
       "<table border=\"1\" class=\"dataframe\">\n",
       "  <thead>\n",
       "    <tr style=\"text-align: right;\">\n",
       "      <th><\/th>\n",
       "      <th>age<\/th>\n",
       "      <th>fnlwgt<\/th>\n",
       "      <th>educational-num<\/th>\n",
       "      <th>capital-gain<\/th>\n",
       "      <th>capital-loss<\/th>\n",
       "      <th>hours-per-week<\/th>\n",
       "    <\/tr>\n",
       "  <\/thead>\n",
       "  <tbody>\n",
       "    <tr>\n",
       "      <th>count<\/th>\n",
       "      <td>48842.000000<\/td>\n",
       "      <td>4.884200e+04<\/td>\n",
       "      <td>48842.000000<\/td>\n",
       "      <td>48842.000000<\/td>\n",
       "      <td>48842.000000<\/td>\n",
       "      <td>48842.000000<\/td>\n",
       "    <\/tr>\n",
       "    <tr>\n",
       "      <th>mean<\/th>\n",
       "      <td>38.643585<\/td>\n",
       "      <td>1.896641e+05<\/td>\n",
       "      <td>10.078089<\/td>\n",
       "      <td>1079.067626<\/td>\n",
       "      <td>87.502314<\/td>\n",
       "      <td>40.422382<\/td>\n",
       "    <\/tr>\n",
       "    <tr>\n",
       "      <th>std<\/th>\n",
       "      <td>13.710510<\/td>\n",
       "      <td>1.056040e+05<\/td>\n",
       "      <td>2.570973<\/td>\n",
       "      <td>7452.019058<\/td>\n",
       "      <td>403.004552<\/td>\n",
       "      <td>12.391444<\/td>\n",
       "    <\/tr>\n",
       "    <tr>\n",
       "      <th>min<\/th>\n",
       "      <td>17.000000<\/td>\n",
       "      <td>1.228500e+04<\/td>\n",
       "      <td>1.000000<\/td>\n",
       "      <td>0.000000<\/td>\n",
       "      <td>0.000000<\/td>\n",
       "      <td>1.000000<\/td>\n",
       "    <\/tr>\n",
       "    <tr>\n",
       "      <th>25%<\/th>\n",
       "      <td>28.000000<\/td>\n",
       "      <td>1.175505e+05<\/td>\n",
       "      <td>9.000000<\/td>\n",
       "      <td>0.000000<\/td>\n",
       "      <td>0.000000<\/td>\n",
       "      <td>40.000000<\/td>\n",
       "    <\/tr>\n",
       "    <tr>\n",
       "      <th>50%<\/th>\n",
       "      <td>37.000000<\/td>\n",
       "      <td>1.781445e+05<\/td>\n",
       "      <td>10.000000<\/td>\n",
       "      <td>0.000000<\/td>\n",
       "      <td>0.000000<\/td>\n",
       "      <td>40.000000<\/td>\n",
       "    <\/tr>\n",
       "    <tr>\n",
       "      <th>75%<\/th>\n",
       "      <td>48.000000<\/td>\n",
       "      <td>2.376420e+05<\/td>\n",
       "      <td>12.000000<\/td>\n",
       "      <td>0.000000<\/td>\n",
       "      <td>0.000000<\/td>\n",
       "      <td>45.000000<\/td>\n",
       "    <\/tr>\n",
       "    <tr>\n",
       "      <th>max<\/th>\n",
       "      <td>90.000000<\/td>\n",
       "      <td>1.490400e+06<\/td>\n",
       "      <td>16.000000<\/td>\n",
       "      <td>99999.000000<\/td>\n",
       "      <td>4356.000000<\/td>\n",
       "      <td>99.000000<\/td>\n",
       "    <\/tr>\n",
       "  <\/tbody>\n",
       "<\/table>\n",
       "<\/div>"
      ]
     },
     "metadata":{
      
     },
     "output_type":"display_data"
    }
   ],
   "metadata":{
    "datalore":{
     "node_id":"3JrdC7wrGs5IeFUzFFrPqe",
     "type":"CODE",
     "hide_input_from_viewers":false,
     "hide_output_from_viewers":false
    }
   }
  },
  {
   "cell_type":"markdown",
   "source":[
    "Видим, что большая часть значений в столбцах **capital-gain** и **capital-loss** представлена нулевыми значениями (не менее 75%), поэтому эти столбцы мы не будем использовать для анализа."
   ],
   "attachments":{
    
   },
   "metadata":{
    "datalore":{
     "node_id":"7F0y7bO3Zu33JrXpcdFEcs",
     "type":"MD",
     "hide_input_from_viewers":false,
     "hide_output_from_viewers":false
    }
   }
  },
  {
   "cell_type":"markdown",
   "source":[
    "## 2. Проверка датафрейма на наличие пустых ячеек по каждому столбцу. "
   ],
   "attachments":{
    
   },
   "metadata":{
    "datalore":{
     "node_id":"ItPY8fWEDhAFOyIb2klUNG",
     "type":"MD",
     "hide_input_from_viewers":false,
     "hide_output_from_viewers":false
    }
   }
  },
  {
   "cell_type":"code",
   "source":[
    "df.isnull().sum()"
   ],
   "execution_count":8,
   "outputs":[
    {
     "data":{
      "text\/html":[
       
      ]
     },
     "metadata":{
      
     },
     "output_type":"display_data"
    }
   ],
   "metadata":{
    "datalore":{
     "node_id":"4HZ1Ba6pYnO58bxFepIWuP",
     "type":"CODE",
     "hide_input_from_viewers":false,
     "hide_output_from_viewers":false
    }
   }
  },
  {
   "cell_type":"markdown",
   "source":[
    "**Как видим, в трёх столбцах присутствуют пустые ячейки. Проанализируем эти столбцы.** "
   ],
   "attachments":{
    
   },
   "metadata":{
    "datalore":{
     "node_id":"vIbjiT5SenMlGgCtrwJ4Er",
     "type":"MD",
     "hide_input_from_viewers":false,
     "hide_output_from_viewers":false
    }
   }
  },
  {
   "cell_type":"markdown",
   "source":[
    "- workclass"
   ],
   "attachments":{
    
   },
   "metadata":{
    "datalore":{
     "node_id":"y38oABLkgC1Lr0zRxcjEhA",
     "type":"MD",
     "hide_input_from_viewers":false,
     "hide_output_from_viewers":false
    }
   }
  },
  {
   "cell_type":"code",
   "source":[
    "df['workclass'].value_counts()"
   ],
   "execution_count":9,
   "outputs":[
    {
     "data":{
      "text\/html":[
       
      ]
     },
     "metadata":{
      
     },
     "output_type":"display_data"
    }
   ],
   "metadata":{
    "datalore":{
     "node_id":"wBMnHAcLvjlWsdP3Jy41kp",
     "type":"CODE",
     "hide_input_from_viewers":false,
     "hide_output_from_viewers":false
    }
   }
  },
  {
   "cell_type":"markdown",
   "source":[
    "На долю частных работников приходится подавляющая часть всей выборки, поэтому пустые ячейки разумно заполнить этим же значением."
   ],
   "attachments":{
    
   },
   "metadata":{
    "datalore":{
     "node_id":"8XjDHj6TtizdwMbXtVTDxa",
     "type":"MD",
     "hide_input_from_viewers":false,
     "hide_output_from_viewers":false
    }
   }
  },
  {
   "cell_type":"code",
   "source":[
    "df['workclass'] = df['workclass'].fillna('Private')"
   ],
   "execution_count":10,
   "outputs":[
    
   ],
   "metadata":{
    "datalore":{
     "node_id":"Xj9hDjV4uunM4hRTQCk70i",
     "type":"CODE",
     "hide_input_from_viewers":false,
     "hide_output_from_viewers":false
    }
   }
  },
  {
   "cell_type":"markdown",
   "source":[
    "- occupation"
   ],
   "attachments":{
    
   },
   "metadata":{
    "datalore":{
     "node_id":"ZgCDzpVNmbYAY8q0JeXDsf",
     "type":"MD",
     "hide_input_from_viewers":false,
     "hide_output_from_viewers":false
    }
   }
  },
  {
   "cell_type":"code",
   "source":[
    "# Переходим к следующему столбцу\n",
    "df['occupation'].value_counts()"
   ],
   "execution_count":11,
   "outputs":[
    {
     "data":{
      "text\/html":[
       
      ]
     },
     "metadata":{
      
     },
     "output_type":"display_data"
    }
   ],
   "metadata":{
    "datalore":{
     "node_id":"saNN3qaV4v0DpqYAxhhjv1",
     "type":"CODE",
     "hide_input_from_viewers":false,
     "hide_output_from_viewers":false
    }
   }
  },
  {
   "cell_type":"markdown",
   "source":[
    "Количество различных профессий по большей части сопоставимо, поэтому пустые ячейки заменим случайными профессиями из всех, указанных в выборке. "
   ],
   "attachments":{
    
   },
   "metadata":{
    "datalore":{
     "node_id":"gk7Nft3BKKkjCSTeTe4P9z",
     "type":"MD",
     "hide_input_from_viewers":false,
     "hide_output_from_viewers":false
    }
   }
  },
  {
   "cell_type":"code",
   "source":[
    "# Для этого получаем массив из всех уникальных значений столбца, \n",
    "# после чего заполняем пустые ячейки рандомными значениями.\n",
    "uniq_prof = df['occupation'].unique()\n",
    "# Из этого массива будем выбирать случайную профессию, которой заполним пустые ячейки.\n",
    "# Сделаем это циклом, заполняя по 11 пустых ячеек за итерацию, чтобы сохранить разнообразие новых значений.\n",
    "end = df.isnull().sum()['occupation']  # Количество None-ячеек\n",
    "end = round(end \/ 10) # Количество итераций (берём 10 вместо 11, чтобы итераций точно хватило)\n",
    "for i in range(end):\n",
    "    df['occupation'] = df['occupation'].fillna(np.random.choice(uniq_prof), limit=11)\n",
    "# Теперь пустые ячейки равномерно заполнены случайными значениями."
   ],
   "execution_count":12,
   "outputs":[
    
   ],
   "metadata":{
    "datalore":{
     "node_id":"ibGKCRBINuVUReA6OFkVcD",
     "type":"CODE",
     "hide_input_from_viewers":false,
     "hide_output_from_viewers":false
    }
   }
  },
  {
   "cell_type":"markdown",
   "source":[
    "- native country"
   ],
   "attachments":{
    
   },
   "metadata":{
    "datalore":{
     "node_id":"zgaotFkXmEnuAsEyQ5oziG",
     "type":"MD",
     "hide_input_from_viewers":false,
     "hide_output_from_viewers":false
    }
   }
  },
  {
   "cell_type":"code",
   "source":[
    "df['native-country'].value_counts()"
   ],
   "execution_count":13,
   "outputs":[
    {
     "data":{
      "text\/html":[
       
      ]
     },
     "metadata":{
      
     },
     "output_type":"display_data"
    }
   ],
   "metadata":{
    "datalore":{
     "node_id":"zKsmBEjIFov2ukfdiUqyMb",
     "type":"CODE",
     "hide_input_from_viewers":false,
     "hide_output_from_viewers":false
    }
   }
  },
  {
   "cell_type":"markdown",
   "source":[
    "В данном случае можем снова заменить None на самый популярный вариант - *United States*"
   ],
   "attachments":{
    
   },
   "metadata":{
    "datalore":{
     "node_id":"W453rfN9yLJM3PzBzWda2C",
     "type":"MD",
     "hide_input_from_viewers":false,
     "hide_output_from_viewers":false
    }
   }
  },
  {
   "cell_type":"code",
   "source":[
    "df['native-country'] = df['native-country'].fillna('United-States')"
   ],
   "execution_count":14,
   "outputs":[
    
   ],
   "metadata":{
    "datalore":{
     "node_id":"m1cRLd5xaaCluknLNLBGQz",
     "type":"CODE",
     "hide_input_from_viewers":false,
     "hide_output_from_viewers":false
    }
   }
  },
  {
   "cell_type":"markdown",
   "source":[
    "## 3. Визуализация данных"
   ],
   "attachments":{
    
   },
   "metadata":{
    "datalore":{
     "node_id":"pCAkWOW9xKL8Wcf55U5yBW",
     "type":"MD",
     "hide_input_from_viewers":false,
     "hide_output_from_viewers":false
    }
   }
  },
  {
   "cell_type":"markdown",
   "source":[
    "- ### Процентное соотношение высокого и невысокого дохода в нашей выборке."
   ],
   "attachments":{
    
   },
   "metadata":{
    "datalore":{
     "node_id":"9ZEKNeXrsnT8EyWxhPNs9K",
     "type":"MD",
     "hide_input_from_viewers":false,
     "hide_output_from_viewers":false
    }
   }
  },
  {
   "cell_type":"code",
   "source":[
    "plt.figure(figsize=(6,6))\n",
    "sns.countplot(x=df['income'], palette=\"PuRd\")"
   ],
   "execution_count":15,
   "outputs":[
    {
     "data":{
      "text\/plain":[
       "<AxesSubplot:xlabel='income', ylabel='count'>"
      ]
     },
     "metadata":{
      
     },
     "output_type":"display_data"
    },
    {
     "data":{
      "image\/png":"[encoded data removed]"
     },
     "metadata":{
      "image\/png":{
       
      }
     },
     "output_type":"display_data"
    }
   ],
   "metadata":{
    "datalore":{
     "node_id":"OsZY9LB0bXLZ8J56qdbYn9",
     "type":"CODE",
     "hide_input_from_viewers":false,
     "hide_output_from_viewers":false
    }
   }
  },
  {
   "cell_type":"markdown",
   "source":[
    "Как видим, большинство людей имеют доход ниже порогового значения в 50K $"
   ],
   "attachments":{
    
   },
   "metadata":{
    "datalore":{
     "node_id":"K4VO1vla9hcb9XOJP1jxe1",
     "type":"MD",
     "hide_input_from_viewers":false,
     "hide_output_from_viewers":false
    }
   }
  },
  {
   "cell_type":"markdown",
   "source":[
    "- ### Гистограммы распределения значений по всем числовым признакам."
   ],
   "attachments":{
    
   },
   "metadata":{
    "datalore":{
     "node_id":"J3gkaZj4cDhEydBVUTZuMj",
     "type":"MD",
     "hide_input_from_viewers":false,
     "hide_output_from_viewers":false
    }
   }
  },
  {
   "cell_type":"code",
   "source":[
    "numeric = df.select_dtypes(include=['int64', 'float64']).columns\n",
    "# Распределение дохода (income) мы уже показали, поэтому здесь его использовать не будем и используем срез списка\n",
    "atts = df[numeric[:-1]]\n",
    "atts.hist(histtype='step', figsize=(16, 10))"
   ],
   "execution_count":16,
   "outputs":[
    {
     "data":{
      "text\/html":[
       
      ]
     },
     "metadata":{
      
     },
     "output_type":"display_data"
    },
    {
     "data":{
      "image\/png":"[encoded data removed]"
     },
     "metadata":{
      "image\/png":{
       
      }
     },
     "output_type":"display_data"
    }
   ],
   "metadata":{
    "datalore":{
     "node_id":"deOO5S6wJtqDfIRjDvn1Ez",
     "type":"CODE",
     "hide_input_from_viewers":false,
     "hide_output_from_viewers":false
    }
   }
  },
  {
   "cell_type":"markdown",
   "source":[
    "Видим подтверждение того, что ненулевых данных по *capital-loss* и -*gain* слишком мало, чтобы включать их в признаки для обучения."
   ],
   "attachments":{
    
   },
   "metadata":{
    "datalore":{
     "node_id":"XnHipXjixTRpS83VwS8NeC",
     "type":"MD",
     "hide_input_from_viewers":false,
     "hide_output_from_viewers":false
    }
   }
  },
  {
   "cell_type":"markdown",
   "source":[
    "- ### Распредление уровня дохода в зависимости от возраста"
   ],
   "attachments":{
    
   },
   "metadata":{
    "datalore":{
     "node_id":"7rsX1PrHC6H799OvkqwAbB",
     "type":"MD",
     "hide_input_from_viewers":false,
     "hide_output_from_viewers":false
    }
   }
  },
  {
   "cell_type":"code",
   "source":[
    "plt.figure(figsize=(16,10))\n",
    "sns.kdeplot(df[df[\"income\"]==\"<=50K\"].age, fill=True)\n",
    "sns.kdeplot(df[df[\"income\"]==\">50K\"].age, fill=True)\n",
    "plt.legend([\"<=50K\",\">50K\"])\n",
    "plt.title(\"Распределение дохода по возрастным группам\")"
   ],
   "execution_count":17,
   "outputs":[
    {
     "data":{
      "text\/plain":[
       "Text(0.5, 1.0, 'Распределение дохода по возрастным группам')"
      ]
     },
     "metadata":{
      
     },
     "output_type":"display_data"
    },
    {
     "data":{
      "image\/png":"[encoded data removed]"
     },
     "metadata":{
      "image\/png":{
       
      }
     },
     "output_type":"display_data"
    }
   ],
   "metadata":{
    "datalore":{
     "node_id":"lMf3xMCFAZ0PdYrm48cPBE",
     "type":"CODE",
     "hide_input_from_viewers":false,
     "hide_output_from_viewers":false
    }
   }
  },
  {
   "cell_type":"markdown",
   "source":[
    "Видим, что линейной зависимости между возрастом и доходом **нет**."
   ],
   "attachments":{
    
   },
   "metadata":{
    "datalore":{
     "node_id":"5KoCFuCMmPAwEt80deLrhY",
     "type":"MD",
     "hide_input_from_viewers":false,
     "hide_output_from_viewers":false
    }
   }
  },
  {
   "cell_type":"markdown",
   "source":[
    "- ### Распредление уровня дохода в зависимости от конечного веса (*fnlwt*)"
   ],
   "attachments":{
    
   },
   "metadata":{
    "datalore":{
     "node_id":"lxcZzkpsBWJZL6LHh3DziZ",
     "type":"MD",
     "hide_input_from_viewers":false,
     "hide_output_from_viewers":false
    }
   }
  },
  {
   "cell_type":"code",
   "source":[
    "plt.figure(figsize=(16,10))\n",
    "sns.kdeplot(df[df[\"income\"]==\"<=50K\"].fnlwgt, fill=True)\n",
    "sns.kdeplot(df[df[\"income\"]==\">50K\"].fnlwgt, fill=True)\n",
    "plt.legend([\"<=50K\",\">50K\"])\n",
    "plt.title(\"Распределение дохода по возрастным группам\")"
   ],
   "execution_count":18,
   "outputs":[
    {
     "data":{
      "text\/plain":[
       "Text(0.5, 1.0, 'Распределение дохода по возрастным группам')"
      ]
     },
     "metadata":{
      
     },
     "output_type":"display_data"
    },
    {
     "data":{
      "image\/png":"[encoded data removed]"
     },
     "metadata":{
      "image\/png":{
       
      }
     },
     "output_type":"display_data"
    }
   ],
   "metadata":{
    "datalore":{
     "node_id":"ecczks9Zb0pMWQoB59yH6z",
     "type":"CODE",
     "hide_input_from_viewers":false,
     "hide_output_from_viewers":false
    }
   }
  },
  {
   "cell_type":"markdown",
   "source":[
    "Как видим, конечный вес у групп с высоким и невысоким доходом распределён практически одинаковым образом. Более того, значения в этом столбце практически не повторяются, поэтому использовать его для обучения мы **не будем** (а если попробовать, то полученная модель будет просто выдавать один и тот же результат для каждого общего входа - <=50K)"
   ],
   "attachments":{
    
   },
   "metadata":{
    "datalore":{
     "node_id":"zMv0X1YgjZGOWzwP8Uq8to",
     "type":"MD",
     "hide_input_from_viewers":false,
     "hide_output_from_viewers":false
    }
   }
  },
  {
   "cell_type":"markdown",
   "source":[
    "## 4. Преобразование признаков"
   ],
   "attachments":{
    
   },
   "metadata":{
    "datalore":{
     "node_id":"V8iqcOOdx93JDHDyv5RuvQ",
     "type":"MD",
     "hide_input_from_viewers":false,
     "hide_output_from_viewers":false
    }
   }
  },
  {
   "cell_type":"markdown",
   "source":[
    "### Заменим все нечисловые значения в признаках"
   ],
   "attachments":{
    
   },
   "metadata":{
    "datalore":{
     "node_id":"7K0J30uQh0NuvkrlMiUhVa",
     "type":"MD",
     "hide_input_from_viewers":false,
     "hide_output_from_viewers":false
    }
   }
  },
  {
   "cell_type":"code",
   "source":[
    "# Используем бинарные значения для дохода\n",
    "df['income'] = df['income'].apply(lambda x: 1 if x=='>50K' else 0)\n",
    "# Аналогично для пола\n",
    "df['gender'] = df['gender'].apply(lambda x: 1 if x=='Male' else 0)"
   ],
   "execution_count":19,
   "outputs":[
    
   ],
   "metadata":{
    "datalore":{
     "node_id":"5CtRiYZmkOs8qwKItCYiwE",
     "type":"CODE",
     "hide_input_from_viewers":false,
     "hide_output_from_viewers":false
    }
   }
  },
  {
   "cell_type":"markdown",
   "source":[
    "Для остальных столбцов напишем небольшую функцию, которая будет преобразовывать строки в числовые значения: функция будет принимать на вход массив уникальных значений и возвращать словарь с индексами каждого значения."
   ],
   "attachments":{
    
   },
   "metadata":{
    "datalore":{
     "node_id":"CuahmTf6nJUSrFwAA3isCl",
     "type":"MD",
     "hide_input_from_viewers":false,
     "hide_output_from_viewers":false
    }
   }
  },
  {
   "cell_type":"code",
   "source":[
    "def make_conversation_data(unique):\n",
    "    data = {}\n",
    "    for i, u in enumerate(unique):\n",
    "        data[u] = i\n",
    "    return data\n",
    "\n",
    "\n",
    "name_list = (\n",
    "    'workclass', 'marital-status', 'occupation', 'relationship', 'race', 'native-country'\n",
    "    )\n",
    "# Получим преобразованные значения для каждого столбца\n",
    "a, b, c, d, e, f = [\n",
    "    make_conversation_data(df[name].unique()) for name in name_list\n",
    "]\n",
    "\n",
    "# Сформируем словарь, в котором по названию колонны можно получить ещё один словарь, \n",
    "# присваивающий каждому уникальному значению числовой эквивалент.\n",
    "transform_data = {}\n",
    "for name, value in zip(name_list, (a, b, c, d, e, f)):\n",
    "    transform_data[name] = value\n",
    "\n",
    "transform_data"
   ],
   "execution_count":20,
   "outputs":[
    {
     "data":{
      "text\/plain":[
       "{'workclass': {'Private': 0,\n",
       "  'Local-gov': 1,\n",
       "  'Self-emp-not-inc': 2,\n",
       "  'Federal-gov': 3,\n",
       "  'State-gov': 4,\n",
       "  'Self-emp-inc': 5,\n",
       "  'Without-pay': 6,\n",
       "  'Never-worked': 7},\n",
       " 'marital-status': {'Never-married': 0,\n",
       "  'Married-civ-spouse': 1,\n",
       "  'Widowed': 2,\n",
       "  'Divorced': 3,\n",
       "  'Separated': 4,\n",
       "  'Married-spouse-absent': 5,\n",
       "  'Married-AF-spouse': 6},\n",
       " 'occupation': {'Machine-op-inspct': 0,\n",
       "  'Farming-fishing': 1,\n",
       "  'Protective-serv': 2,\n",
       "  'Handlers-cleaners': 3,\n",
       "  'Other-service': 4,\n",
       "  'Prof-specialty': 5,\n",
       "  'Craft-repair': 6,\n",
       "  'Adm-clerical': 7,\n",
       "  'Exec-managerial': 8,\n",
       "  'Tech-support': 9,\n",
       "  'Sales': 10,\n",
       "  'Priv-house-serv': 11,\n",
       "  'Transport-moving': 12,\n",
       "  'Armed-Forces': 13},\n",
       " 'relationship': {'Own-child': 0,\n",
       "  'Husband': 1,\n",
       "  'Not-in-family': 2,\n",
       "  'Unmarried': 3,\n",
       "  'Wife': 4,\n",
       "  'Other-relative': 5},\n",
       " 'race': {'Black': 0,\n",
       "  'White': 1,\n",
       "  'Asian-Pac-Islander': 2,\n",
       "  'Other': 3,\n",
       "  'Amer-Indian-Eskimo': 4},\n",
       " 'native-country': {'United-States': 0,\n",
       "  'Peru': 1,\n",
       "  'Guatemala': 2,\n",
       "  'Mexico': 3,\n",
       "  'Dominican-Republic': 4,\n",
       "  'Ireland': 5,\n",
       "  'Germany': 6,\n",
       "  'Philippines': 7,\n",
       "  'Thailand': 8,\n",
       "  'Haiti': 9,\n",
       "  'El-Salvador': 10,\n",
       "  'Puerto-Rico': 11,\n",
       "  'Vietnam': 12,\n",
       "  'South': 13,\n",
       "  'Columbia': 14,\n",
       "  'Japan': 15,\n",
       "  'India': 16,\n",
       "  'Cambodia': 17,\n",
       "  'Poland': 18,\n",
       "  'Laos': 19,\n",
       "  'England': 20,\n",
       "  'Cuba': 21,\n",
       "  'Taiwan': 22,\n",
       "  'Italy': 23,\n",
       "  'Canada': 24,\n",
       "  'Portugal': 25,\n",
       "  'China': 26,\n",
       "  'Nicaragua': 27,\n",
       "  'Honduras': 28,\n",
       "  'Iran': 29,\n",
       "  'Scotland': 30,\n",
       "  'Jamaica': 31,\n",
       "  'Ecuador': 32,\n",
       "  'Yugoslavia': 33,\n",
       "  'Hungary': 34,\n",
       "  'Hong': 35,\n",
       "  'Greece': 36,\n",
       "  'Trinadad&Tobago': 37,\n",
       "  'Outlying-US(Guam-USVI-etc)': 38,\n",
       "  'France': 39,\n",
       "  'Holand-Netherlands': 40}}"
      ]
     },
     "metadata":{
      
     },
     "output_type":"display_data"
    }
   ],
   "metadata":{
    "datalore":{
     "node_id":"hcllRxjFXcy6R7ExxUykE1",
     "type":"CODE",
     "hide_input_from_viewers":false,
     "hide_output_from_viewers":false
    }
   }
  },
  {
   "cell_type":"markdown",
   "source":[
    "Теперь преобразуем значения в датафрейме"
   ],
   "attachments":{
    
   },
   "metadata":{
    "datalore":{
     "node_id":"BHuiXmzq9q3Lbt0xRCKGwE",
     "type":"MD",
     "hide_input_from_viewers":false,
     "hide_output_from_viewers":false
    }
   }
  },
  {
   "cell_type":"code",
   "source":[
    "for name in name_list:\n",
    "    df[name] = df[name].apply(lambda x: transform_data[name][x])\n",
    "df.head()"
   ],
   "execution_count":21,
   "outputs":[
    {
     "data":{
      "text\/html":[
       "<div>\n",
       "<style scoped>\n",
       "    .dataframe tbody tr th:only-of-type {\n",
       "        vertical-align: middle;\n",
       "    }\n",
       "\n",
       "    .dataframe tbody tr th {\n",
       "        vertical-align: top;\n",
       "    }\n",
       "\n",
       "    .dataframe thead th {\n",
       "        text-align: right;\n",
       "    }\n",
       "<\/style>\n",
       "<table border=\"1\" class=\"dataframe\">\n",
       "  <thead>\n",
       "    <tr style=\"text-align: right;\">\n",
       "      <th><\/th>\n",
       "      <th>age<\/th>\n",
       "      <th>workclass<\/th>\n",
       "      <th>fnlwgt<\/th>\n",
       "      <th>education<\/th>\n",
       "      <th>educational-num<\/th>\n",
       "      <th>marital-status<\/th>\n",
       "      <th>occupation<\/th>\n",
       "      <th>relationship<\/th>\n",
       "      <th>race<\/th>\n",
       "      <th>gender<\/th>\n",
       "      <th>capital-gain<\/th>\n",
       "      <th>capital-loss<\/th>\n",
       "      <th>hours-per-week<\/th>\n",
       "      <th>native-country<\/th>\n",
       "      <th>income<\/th>\n",
       "    <\/tr>\n",
       "  <\/thead>\n",
       "  <tbody>\n",
       "    <tr>\n",
       "      <th>0<\/th>\n",
       "      <td>25<\/td>\n",
       "      <td>0<\/td>\n",
       "      <td>226802<\/td>\n",
       "      <td>11th<\/td>\n",
       "      <td>7<\/td>\n",
       "      <td>0<\/td>\n",
       "      <td>0<\/td>\n",
       "      <td>0<\/td>\n",
       "      <td>0<\/td>\n",
       "      <td>1<\/td>\n",
       "      <td>0<\/td>\n",
       "      <td>0<\/td>\n",
       "      <td>40<\/td>\n",
       "      <td>0<\/td>\n",
       "      <td>0<\/td>\n",
       "    <\/tr>\n",
       "    <tr>\n",
       "      <th>1<\/th>\n",
       "      <td>38<\/td>\n",
       "      <td>0<\/td>\n",
       "      <td>89814<\/td>\n",
       "      <td>HS-grad<\/td>\n",
       "      <td>9<\/td>\n",
       "      <td>1<\/td>\n",
       "      <td>1<\/td>\n",
       "      <td>1<\/td>\n",
       "      <td>1<\/td>\n",
       "      <td>1<\/td>\n",
       "      <td>0<\/td>\n",
       "      <td>0<\/td>\n",
       "      <td>50<\/td>\n",
       "      <td>0<\/td>\n",
       "      <td>0<\/td>\n",
       "    <\/tr>\n",
       "    <tr>\n",
       "      <th>2<\/th>\n",
       "      <td>28<\/td>\n",
       "      <td>1<\/td>\n",
       "      <td>336951<\/td>\n",
       "      <td>Assoc-acdm<\/td>\n",
       "      <td>12<\/td>\n",
       "      <td>1<\/td>\n",
       "      <td>2<\/td>\n",
       "      <td>1<\/td>\n",
       "      <td>1<\/td>\n",
       "      <td>1<\/td>\n",
       "      <td>0<\/td>\n",
       "      <td>0<\/td>\n",
       "      <td>40<\/td>\n",
       "      <td>0<\/td>\n",
       "      <td>1<\/td>\n",
       "    <\/tr>\n",
       "    <tr>\n",
       "      <th>3<\/th>\n",
       "      <td>44<\/td>\n",
       "      <td>0<\/td>\n",
       "      <td>160323<\/td>\n",
       "      <td>Some-college<\/td>\n",
       "      <td>10<\/td>\n",
       "      <td>1<\/td>\n",
       "      <td>0<\/td>\n",
       "      <td>1<\/td>\n",
       "      <td>0<\/td>\n",
       "      <td>1<\/td>\n",
       "      <td>7688<\/td>\n",
       "      <td>0<\/td>\n",
       "      <td>40<\/td>\n",
       "      <td>0<\/td>\n",
       "      <td>1<\/td>\n",
       "    <\/tr>\n",
       "    <tr>\n",
       "      <th>4<\/th>\n",
       "      <td>18<\/td>\n",
       "      <td>0<\/td>\n",
       "      <td>103497<\/td>\n",
       "      <td>Some-college<\/td>\n",
       "      <td>10<\/td>\n",
       "      <td>0<\/td>\n",
       "      <td>3<\/td>\n",
       "      <td>0<\/td>\n",
       "      <td>1<\/td>\n",
       "      <td>0<\/td>\n",
       "      <td>0<\/td>\n",
       "      <td>0<\/td>\n",
       "      <td>30<\/td>\n",
       "      <td>0<\/td>\n",
       "      <td>0<\/td>\n",
       "    <\/tr>\n",
       "  <\/tbody>\n",
       "<\/table>\n",
       "<\/div>"
      ]
     },
     "metadata":{
      
     },
     "output_type":"display_data"
    }
   ],
   "metadata":{
    "datalore":{
     "node_id":"Xq9sJTCdLlo2lHQz18ngjQ",
     "type":"CODE",
     "hide_input_from_viewers":false,
     "hide_output_from_viewers":false
    }
   }
  },
  {
   "cell_type":"markdown",
   "source":[
    "Датасет готов для дальнейшей обработки. Столбец education не трогаем, поскольку уже имеем столбец educational-num и будем работать с ним."
   ],
   "attachments":{
    
   },
   "metadata":{
    "datalore":{
     "node_id":"qcjzpOENvTwlwu0D01SJ3Y",
     "type":"MD",
     "hide_input_from_viewers":false,
     "hide_output_from_viewers":false
    }
   }
  },
  {
   "cell_type":"markdown",
   "source":[
    "## 5. Подготовка датафрейма для обучения модели"
   ],
   "attachments":{
    
   },
   "metadata":{
    "datalore":{
     "node_id":"rN7Ti8z5eAJr020jkVpJws",
     "type":"MD",
     "hide_input_from_viewers":false,
     "hide_output_from_viewers":false
    }
   }
  },
  {
   "cell_type":"markdown",
   "source":[
    "#### 5.1. Разделим датасет на признаки и целевые переменные"
   ],
   "attachments":{
    
   },
   "metadata":{
    "datalore":{
     "node_id":"4gMuNAMxfwzPJ7wWz7UZBf",
     "type":"MD",
     "hide_input_from_viewers":false,
     "hide_output_from_viewers":false
    }
   }
  },
  {
   "cell_type":"code",
   "source":[
    "# Признаки\n",
    "X = df.iloc[:, [0,1,4,5,6,7,8,9,12,13]]\n",
    "X.head()"
   ],
   "execution_count":22,
   "outputs":[
    {
     "data":{
      "text\/html":[
       "<div>\n",
       "<style scoped>\n",
       "    .dataframe tbody tr th:only-of-type {\n",
       "        vertical-align: middle;\n",
       "    }\n",
       "\n",
       "    .dataframe tbody tr th {\n",
       "        vertical-align: top;\n",
       "    }\n",
       "\n",
       "    .dataframe thead th {\n",
       "        text-align: right;\n",
       "    }\n",
       "<\/style>\n",
       "<table border=\"1\" class=\"dataframe\">\n",
       "  <thead>\n",
       "    <tr style=\"text-align: right;\">\n",
       "      <th><\/th>\n",
       "      <th>age<\/th>\n",
       "      <th>workclass<\/th>\n",
       "      <th>educational-num<\/th>\n",
       "      <th>marital-status<\/th>\n",
       "      <th>occupation<\/th>\n",
       "      <th>relationship<\/th>\n",
       "      <th>race<\/th>\n",
       "      <th>gender<\/th>\n",
       "      <th>hours-per-week<\/th>\n",
       "      <th>native-country<\/th>\n",
       "    <\/tr>\n",
       "  <\/thead>\n",
       "  <tbody>\n",
       "    <tr>\n",
       "      <th>0<\/th>\n",
       "      <td>25<\/td>\n",
       "      <td>0<\/td>\n",
       "      <td>7<\/td>\n",
       "      <td>0<\/td>\n",
       "      <td>0<\/td>\n",
       "      <td>0<\/td>\n",
       "      <td>0<\/td>\n",
       "      <td>1<\/td>\n",
       "      <td>40<\/td>\n",
       "      <td>0<\/td>\n",
       "    <\/tr>\n",
       "    <tr>\n",
       "      <th>1<\/th>\n",
       "      <td>38<\/td>\n",
       "      <td>0<\/td>\n",
       "      <td>9<\/td>\n",
       "      <td>1<\/td>\n",
       "      <td>1<\/td>\n",
       "      <td>1<\/td>\n",
       "      <td>1<\/td>\n",
       "      <td>1<\/td>\n",
       "      <td>50<\/td>\n",
       "      <td>0<\/td>\n",
       "    <\/tr>\n",
       "    <tr>\n",
       "      <th>2<\/th>\n",
       "      <td>28<\/td>\n",
       "      <td>1<\/td>\n",
       "      <td>12<\/td>\n",
       "      <td>1<\/td>\n",
       "      <td>2<\/td>\n",
       "      <td>1<\/td>\n",
       "      <td>1<\/td>\n",
       "      <td>1<\/td>\n",
       "      <td>40<\/td>\n",
       "      <td>0<\/td>\n",
       "    <\/tr>\n",
       "    <tr>\n",
       "      <th>3<\/th>\n",
       "      <td>44<\/td>\n",
       "      <td>0<\/td>\n",
       "      <td>10<\/td>\n",
       "      <td>1<\/td>\n",
       "      <td>0<\/td>\n",
       "      <td>1<\/td>\n",
       "      <td>0<\/td>\n",
       "      <td>1<\/td>\n",
       "      <td>40<\/td>\n",
       "      <td>0<\/td>\n",
       "    <\/tr>\n",
       "    <tr>\n",
       "      <th>4<\/th>\n",
       "      <td>18<\/td>\n",
       "      <td>0<\/td>\n",
       "      <td>10<\/td>\n",
       "      <td>0<\/td>\n",
       "      <td>3<\/td>\n",
       "      <td>0<\/td>\n",
       "      <td>1<\/td>\n",
       "      <td>0<\/td>\n",
       "      <td>30<\/td>\n",
       "      <td>0<\/td>\n",
       "    <\/tr>\n",
       "  <\/tbody>\n",
       "<\/table>\n",
       "<\/div>"
      ]
     },
     "metadata":{
      
     },
     "output_type":"display_data"
    }
   ],
   "metadata":{
    "datalore":{
     "node_id":"CDFyfV2vjZyJ0v3Njh1V8X",
     "type":"CODE",
     "hide_input_from_viewers":false,
     "hide_output_from_viewers":false
    }
   }
  },
  {
   "cell_type":"code",
   "source":[
    "# Метки\n",
    "Y = df.income"
   ],
   "execution_count":23,
   "outputs":[
    
   ],
   "metadata":{
    "datalore":{
     "node_id":"y5T9T49y48n6HDQau8DVEv",
     "type":"CODE",
     "hide_input_from_viewers":false,
     "hide_output_from_viewers":false
    }
   }
  },
  {
   "cell_type":"markdown",
   "source":[
    "####  5.2. Разделим X и Y на две части части"
   ],
   "attachments":{
    
   },
   "metadata":{
    "datalore":{
     "node_id":"pnwd5rnqB7Sa4goKrvYEnA",
     "type":"MD",
     "hide_input_from_viewers":false,
     "hide_output_from_viewers":false
    }
   }
  },
  {
   "cell_type":"markdown",
   "source":[
    "Воспользуемся встроенной функцией библиотеки scikit-learn для разделения выборки на тренировочную и тестовую части."
   ],
   "attachments":{
    
   },
   "metadata":{
    "datalore":{
     "node_id":"PhL67lHLZzwW22HrNcJCjW",
     "type":"MD",
     "hide_input_from_viewers":false,
     "hide_output_from_viewers":false
    }
   }
  },
  {
   "cell_type":"code",
   "source":[
    "from sklearn.model_selection import train_test_split"
   ],
   "execution_count":24,
   "outputs":[
    
   ],
   "metadata":{
    "datalore":{
     "node_id":"SHYvtlqhk2BuT5d7LCoISN",
     "type":"CODE",
     "hide_input_from_viewers":false,
     "hide_output_from_viewers":false
    }
   }
  },
  {
   "cell_type":"code",
   "source":[
    "X_train, X_test, Y_train, Y_test = train_test_split(X, Y, test_size=0.2,\n",
    "random_state=2)"
   ],
   "execution_count":25,
   "outputs":[
    
   ],
   "metadata":{
    "datalore":{
     "node_id":"G8LhbnpWc8vJBITBXevNIK",
     "type":"CODE",
     "hide_input_from_viewers":false,
     "hide_output_from_viewers":false
    }
   }
  },
  {
   "cell_type":"markdown",
   "source":[
    "## 6. Обучение и применение модели"
   ],
   "attachments":{
    
   },
   "metadata":{
    "datalore":{
     "node_id":"ygadrCZjkJRI9KL8Nvy9qi",
     "type":"MD",
     "hide_input_from_viewers":false,
     "hide_output_from_viewers":false
    }
   }
  },
  {
   "cell_type":"markdown",
   "source":[
    "- ### ЛОГИСТИЧЕСКАЯ РЕГРЕССИЯ"
   ],
   "attachments":{
    
   },
   "metadata":{
    "datalore":{
     "node_id":"OBvA106jnnfIEnhfWP1qCk",
     "type":"MD",
     "hide_input_from_viewers":false,
     "hide_output_from_viewers":false
    }
   }
  },
  {
   "cell_type":"code",
   "source":[
    "from sklearn.linear_model import LogisticRegression"
   ],
   "execution_count":26,
   "outputs":[
    
   ],
   "metadata":{
    "datalore":{
     "node_id":"cb9NsTt85dbrYOhdCUPRlA",
     "type":"CODE",
     "hide_input_from_viewers":false,
     "hide_output_from_viewers":false
    }
   }
  },
  {
   "cell_type":"code",
   "source":[
    "regmodel = LogisticRegression(C=100.0, random_state=2, max_iter=600)"
   ],
   "execution_count":27,
   "outputs":[
    
   ],
   "metadata":{
    "datalore":{
     "node_id":"f311WDfj61oAI6YG26tqcG",
     "type":"CODE",
     "hide_input_from_viewers":false,
     "hide_output_from_viewers":false
    }
   }
  },
  {
   "cell_type":"markdown",
   "source":[
    "В качестве целевой переменной мы должны передать одномерный массив, а не датафрейм, дабы избежать ошибки: \n",
    "***column-vector y was passed when a 1d array was expected. Please change the shape of y to (n_samples, ), for example using ravel().***\n",
    "Воспользуемся предлагаемым решением."
   ],
   "attachments":{
    
   },
   "metadata":{
    "datalore":{
     "node_id":"jIvUAzAve5ZmzlawfuDbB2",
     "type":"MD",
     "hide_input_from_viewers":false,
     "hide_output_from_viewers":false
    }
   }
  },
  {
   "cell_type":"code",
   "source":[
    "regmodel.fit(X=X_train, y=Y_train.values.ravel())"
   ],
   "execution_count":28,
   "outputs":[
    {
     "data":{
      "text\/plain":[
       "LogisticRegression(C=100.0, max_iter=600, random_state=2)"
      ]
     },
     "metadata":{
      
     },
     "output_type":"display_data"
    }
   ],
   "metadata":{
    "datalore":{
     "node_id":"SyCqgmGqxzXMKLbxLURq9c",
     "type":"CODE",
     "hide_input_from_viewers":false,
     "hide_output_from_viewers":false
    }
   }
  },
  {
   "cell_type":"code",
   "source":[
    "logistic_prediction = regmodel.predict(X=X_test)"
   ],
   "execution_count":29,
   "outputs":[
    
   ],
   "metadata":{
    "datalore":{
     "node_id":"gk6KLLYdZy2h1IJNeGqnSY",
     "type":"CODE",
     "hide_input_from_viewers":false,
     "hide_output_from_viewers":false
    }
   }
  },
  {
   "cell_type":"markdown",
   "source":[
    "- ### МЕТОД ОПОРНЫХ ВЕКТОРОВ (SVM)"
   ],
   "attachments":{
    
   },
   "metadata":{
    "datalore":{
     "node_id":"lCXqcuNKCsQTMbFY6p9HcS",
     "type":"MD",
     "hide_input_from_viewers":false,
     "hide_output_from_viewers":false
    }
   }
  },
  {
   "cell_type":"markdown",
   "source":[
    "Обучим модель методом SVM с использованием пайплайнов."
   ],
   "attachments":{
    
   },
   "metadata":{
    "datalore":{
     "node_id":"FlLNKt4Sf4A9zioKYtMaoA",
     "type":"MD",
     "hide_input_from_viewers":false,
     "hide_output_from_viewers":false
    }
   }
  },
  {
   "cell_type":"code",
   "source":[
    "from sklearn.pipeline import make_pipeline\n",
    "from sklearn.preprocessing import StandardScaler\n",
    "from sklearn.svm import SVC"
   ],
   "execution_count":30,
   "outputs":[
    
   ],
   "metadata":{
    "datalore":{
     "node_id":"Wbm4ISYV9xlXpCWA7SrIla",
     "type":"CODE",
     "hide_input_from_viewers":false,
     "hide_output_from_viewers":false
    }
   }
  },
  {
   "cell_type":"code",
   "source":[
    "svmmodel = make_pipeline(StandardScaler(), SVC(gamma='auto', C=30.0)) \n",
    "# Параметр С, отвечающий за уменьшение регуляризации, подобран опытным путём исходя из дальнейшего анализа."
   ],
   "execution_count":31,
   "outputs":[
    
   ],
   "metadata":{
    "datalore":{
     "node_id":"wfMce9XncGG3MSho7h9g3L",
     "type":"CODE",
     "hide_input_from_viewers":false,
     "hide_output_from_viewers":false
    }
   }
  },
  {
   "cell_type":"code",
   "source":[
    "svmmodel.fit(X_train, Y_train.values.ravel())"
   ],
   "execution_count":32,
   "outputs":[
    {
     "data":{
      "text\/plain":[
       "Pipeline(steps=[('standardscaler', StandardScaler()),\n",
       "                ('svc', SVC(C=30.0, gamma='auto'))])"
      ]
     },
     "metadata":{
      
     },
     "output_type":"display_data"
    }
   ],
   "metadata":{
    "datalore":{
     "node_id":"nqA4blGz6uah1BMFypW9wX",
     "type":"CODE",
     "hide_input_from_viewers":false,
     "hide_output_from_viewers":false
    }
   }
  },
  {
   "cell_type":"code",
   "source":[
    "svm_prediction = svmmodel.predict(X=X_test)"
   ],
   "execution_count":33,
   "outputs":[
    
   ],
   "metadata":{
    "datalore":{
     "node_id":"LuQItOAsvUhSNJ6HPaSgOc",
     "type":"CODE",
     "hide_input_from_viewers":false,
     "hide_output_from_viewers":false
    }
   }
  },
  {
   "cell_type":"markdown",
   "source":[
    "## 7. Анализ результатов"
   ],
   "attachments":{
    
   },
   "metadata":{
    "datalore":{
     "node_id":"gEoNP0c1z5Uxrg8p7IWXOT",
     "type":"MD",
     "hide_input_from_viewers":false,
     "hide_output_from_viewers":false
    }
   }
  },
  {
   "cell_type":"markdown",
   "source":[
    "Проверим точность обеих моделей, оценив результат по обучающей подборке, тестовой, и суммарно по всей выборке."
   ],
   "attachments":{
    
   },
   "metadata":{
    "datalore":{
     "node_id":"Fwu4UEi3tAqkcLgAc3lC6M",
     "type":"MD",
     "hide_input_from_viewers":false,
     "hide_output_from_viewers":false
    }
   }
  },
  {
   "cell_type":"markdown",
   "source":[
    "- **Логистическая регрессия**"
   ],
   "attachments":{
    
   },
   "metadata":{
    "datalore":{
     "node_id":"kUGbNEd2glkCoZKbsJRcHv",
     "type":"MD",
     "hide_input_from_viewers":false,
     "hide_output_from_viewers":false
    }
   }
  },
  {
   "cell_type":"code",
   "source":[
    "regmodel.score(X_train, Y_train), regmodel.score(X_test, Y_test), regmodel.score(X, Y)"
   ],
   "execution_count":34,
   "outputs":[
    {
     "data":{
      "text\/plain":[
       "(0.8008599288511248, 0.8023339133995291, 0.8011547438679825)"
      ]
     },
     "metadata":{
      
     },
     "output_type":"display_data"
    }
   ],
   "metadata":{
    "datalore":{
     "node_id":"PDCsrDkcBsB7wz4Hnck94j",
     "type":"CODE",
     "hide_input_from_viewers":false,
     "hide_output_from_viewers":false
    }
   }
  },
  {
   "cell_type":"markdown",
   "source":[
    "- **Метод опорных векторов**"
   ],
   "attachments":{
    
   },
   "metadata":{
    "datalore":{
     "node_id":"Z5Bh4X0Ie6gzaacHCdG9qS",
     "type":"MD",
     "hide_input_from_viewers":false,
     "hide_output_from_viewers":false
    }
   }
  },
  {
   "cell_type":"code",
   "source":[
    "svmmodel.score(X_train, Y_train), svmmodel.score(X_test, Y_test), svmmodel.score(X, Y)"
   ],
   "execution_count":35,
   "outputs":[
    {
     "data":{
      "text\/plain":[
       "(0.8496404166560029, 0.8306889139113522, 0.8458498832971623)"
      ]
     },
     "metadata":{
      
     },
     "output_type":"display_data"
    }
   ],
   "metadata":{
    "datalore":{
     "node_id":"KbmuGf4mJn0A4EZJvOYsfO",
     "type":"CODE",
     "hide_input_from_viewers":false,
     "hide_output_from_viewers":false
    }
   }
  },
  {
   "cell_type":"markdown",
   "source":[
    "При других значениях параметра C имеем следующие значения:"
   ],
   "attachments":{
    
   },
   "metadata":{
    "datalore":{
     "node_id":"412072NuG3wVTuHuCoFDPW",
     "type":"MD",
     "hide_input_from_viewers":false,
     "hide_output_from_viewers":false
    }
   }
  },
  {
   "cell_type":"code",
   "source":[
    "pd.DataFrame(\n",
    "    np.array([\n",
    "        [1, 0.832237094668953, 0.8300747261746341, 0.8318045944064535], [10, 0.8421416323292299, 0.8310983724024977, 0.8399328446828549], \n",
    "        [50, 0.8514319350958462, 0.8299723615518477, 0.8471397567667172], [100, 0.8548614132521178, 0.8284368922100522, 0.849576184431432]\n",
    "    ]), columns=['C', 'train', 'test', 'all'])"
   ],
   "execution_count":36,
   "outputs":[
    {
     "data":{
      "text\/html":[
       "<div>\n",
       "<style scoped>\n",
       "    .dataframe tbody tr th:only-of-type {\n",
       "        vertical-align: middle;\n",
       "    }\n",
       "\n",
       "    .dataframe tbody tr th {\n",
       "        vertical-align: top;\n",
       "    }\n",
       "\n",
       "    .dataframe thead th {\n",
       "        text-align: right;\n",
       "    }\n",
       "<\/style>\n",
       "<table border=\"1\" class=\"dataframe\">\n",
       "  <thead>\n",
       "    <tr style=\"text-align: right;\">\n",
       "      <th><\/th>\n",
       "      <th>C<\/th>\n",
       "      <th>train<\/th>\n",
       "      <th>test<\/th>\n",
       "      <th>all<\/th>\n",
       "    <\/tr>\n",
       "  <\/thead>\n",
       "  <tbody>\n",
       "    <tr>\n",
       "      <th>0<\/th>\n",
       "      <td>1.0<\/td>\n",
       "      <td>0.832237<\/td>\n",
       "      <td>0.830075<\/td>\n",
       "      <td>0.831805<\/td>\n",
       "    <\/tr>\n",
       "    <tr>\n",
       "      <th>1<\/th>\n",
       "      <td>10.0<\/td>\n",
       "      <td>0.842142<\/td>\n",
       "      <td>0.831098<\/td>\n",
       "      <td>0.839933<\/td>\n",
       "    <\/tr>\n",
       "    <tr>\n",
       "      <th>2<\/th>\n",
       "      <td>50.0<\/td>\n",
       "      <td>0.851432<\/td>\n",
       "      <td>0.829972<\/td>\n",
       "      <td>0.847140<\/td>\n",
       "    <\/tr>\n",
       "    <tr>\n",
       "      <th>3<\/th>\n",
       "      <td>100.0<\/td>\n",
       "      <td>0.854861<\/td>\n",
       "      <td>0.828437<\/td>\n",
       "      <td>0.849576<\/td>\n",
       "    <\/tr>\n",
       "  <\/tbody>\n",
       "<\/table>\n",
       "<\/div>"
      ]
     },
     "metadata":{
      
     },
     "output_type":"display_data"
    }
   ],
   "metadata":{
    "datalore":{
     "node_id":"YmHUQBpQTEtNIgO2jVtXR9",
     "type":"CODE",
     "hide_input_from_viewers":false,
     "hide_output_from_viewers":false
    }
   }
  },
  {
   "cell_type":"markdown",
   "source":[
    "Рост значения в столбце train свидетельствует о переобучении, так что акцент следует делать на результат по тестовой подборке."
   ],
   "attachments":{
    
   },
   "metadata":{
    "datalore":{
     "node_id":"3BbD8b3mfzKimvZ5McdsrO",
     "type":"MD",
     "hide_input_from_viewers":false,
     "hide_output_from_viewers":false
    }
   }
  },
  {
   "cell_type":"markdown",
   "source":[
    "**Как видим, SVM даёт более точный результат.** При этом результат SVM сильно зависит от регуляризации, поэтому точность модели можно повысить грамотным выбором параметра C (в случае с логистической регрессией изменение C не даёт практически значимого эффекта)."
   ],
   "attachments":{
    
   },
   "metadata":{
    "datalore":{
     "node_id":"XVGl0QsK2OBc8Qwu4p7txY",
     "type":"MD",
     "hide_input_from_viewers":false,
     "hide_output_from_viewers":false
    }
   }
  },
  {
   "cell_type":"markdown",
   "source":[
    "Поскольку результат представляет собой массив из нулей и единиц, можем сравнить точность моделей, просуммировав элементы массивов."
   ],
   "attachments":{
    
   },
   "metadata":{
    "datalore":{
     "node_id":"xdAblgnAgBkQcYbTjyaHET",
     "type":"MD",
     "hide_input_from_viewers":false,
     "hide_output_from_viewers":false
    }
   }
  },
  {
   "cell_type":"code",
   "source":[
    "Y_test.values.sum(), logistic_prediction.sum(), svm_prediction.sum()"
   ],
   "execution_count":37,
   "outputs":[
    {
     "data":{
      "text\/plain":[
       "(2295, 1380, 1781)"
      ]
     },
     "metadata":{
      
     },
     "output_type":"display_data"
    }
   ],
   "metadata":{
    "datalore":{
     "node_id":"rrS4GsgLirlUs6XuumLKQ9",
     "type":"CODE",
     "hide_input_from_viewers":false,
     "hide_output_from_viewers":false
    }
   }
  },
  {
   "cell_type":"markdown",
   "source":[
    "Видим, что SVM намного ближе к истине, но и он далёк от правды."
   ],
   "attachments":{
    
   },
   "metadata":{
    "datalore":{
     "node_id":"FvZ1FuudpEOLkbyzqYzhxu",
     "type":"MD",
     "hide_input_from_viewers":false,
     "hide_output_from_viewers":false
    }
   }
  },
  {
   "cell_type":"markdown",
   "source":[
    "## 8. Выводы"
   ],
   "attachments":{
    
   },
   "metadata":{
    "datalore":{
     "node_id":"ZZHPfOFHy7SytQFHLIubX0",
     "type":"MD",
     "hide_input_from_viewers":false,
     "hide_output_from_viewers":false
    }
   }
  },
  {
   "cell_type":"markdown",
   "source":[
    "### Результат работы"
   ],
   "attachments":{
    
   },
   "metadata":{
    "datalore":{
     "node_id":"d4hW0BGGLAphFZ8NxemkrP",
     "type":"MD",
     "hide_input_from_viewers":false,
     "hide_output_from_viewers":false
    }
   }
  },
  {
   "cell_type":"markdown",
   "source":[
    "В данной работе был проведён анализ датасета **Adult income dataset** с целью обучения модели, способной получить на вход данные о человеке (*его возвраст, пол, расу, уровень образования и т.д.*) и спрогнозировать, превышает ли его годовой доход пороговое значение в *50 000$*. \n",
    "Нечисловые данные были преобразованы в числовые, лишние данные были отброшены, после чего модель была обучена двумя способами:\n",
    "- **методом логистической регрессии**;\n",
    "- **методом опорных векторов.**\n",
    "\n",
    "Первый способ показал точность ~80% на тестовой подборке, второй превысил показатель в 83% и тем самым оказался более точным. При этом метод логистической регресси потребовал в разы меньше времени для обучения модели (несколько секунд против полутора минут) и оказался быстрее."
   ],
   "attachments":{
    
   },
   "metadata":{
    "datalore":{
     "node_id":"bfOn4lxSSZHtWGfF5Fn7M1",
     "type":"MD",
     "hide_input_from_viewers":false,
     "hide_output_from_viewers":false
    }
   }
  },
  {
   "cell_type":"markdown",
   "source":[
    "### Справился ли я с работой?"
   ],
   "attachments":{
    
   },
   "metadata":{
    "datalore":{
     "node_id":"ercrqC6IGEecyqQ7D4jZ4N",
     "type":"MD",
     "hide_input_from_viewers":false,
     "hide_output_from_viewers":false
    }
   }
  },
  {
   "cell_type":"markdown",
   "source":[
    "Я считаю, что полностью выполнил эту работу: произвёл первичный анализ данных и анализ визуального представления, обучил модель двумя способами и сравнил их по точности."
   ],
   "attachments":{
    
   },
   "metadata":{
    "datalore":{
     "node_id":"K9k4usI8V8KNKuxlKDyanS",
     "type":"MD",
     "hide_input_from_viewers":false,
     "hide_output_from_viewers":false
    }
   }
  },
  {
   "cell_type":"code",
   "source":[
    
   ],
   "execution_count":null,
   "outputs":[
    
   ],
   "metadata":{
    "datalore":{
     "node_id":"GNcALcA5I7pKcDtyEj5N3j",
     "type":"CODE",
     "hide_input_from_viewers":false,
     "hide_output_from_viewers":false
    }
   }
  }
 ],
 "metadata":{
  "kernelspec":{
   "display_name":"Python",
   "language":"python",
   "name":"python"
  },
  "datalore":{
   "version":1,
   "computation_mode":"JUPYTER",
   "package_manager":"pip",
   "base_environment":"default",
   "packages":[
    
   ]
  }
 },
 "nbformat":4,
 "nbformat_minor":4
}